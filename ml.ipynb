{
 "cells": [
  {
   "cell_type": "code",
   "execution_count": 1,
   "id": "a5710795-3e5a-4b17-b281-dc288470d372",
   "metadata": {},
   "outputs": [
    {
     "name": "stdout",
     "output_type": "stream",
     "text": [
      "Looking in indexes: https://pypi.org/simple, https://pypi.ngc.nvidia.com\n",
      "Collecting lightgbm\n",
      "  Downloading lightgbm-4.3.0-py3-none-manylinux_2_28_x86_64.whl (3.1 MB)\n",
      "\u001b[K     |████████████████████████████████| 3.1 MB 379 kB/s eta 0:00:01\n",
      "\u001b[?25hRequirement already satisfied: numpy in /opt/conda/lib/python3.8/site-packages (1.20.3)\n",
      "Requirement already satisfied: pandas in /opt/conda/lib/python3.8/site-packages (1.3.5)\n",
      "Collecting rdkit\n",
      "  Downloading rdkit-2023.9.4-cp38-cp38-manylinux_2_17_x86_64.manylinux2014_x86_64.whl (34.4 MB)\n",
      "\u001b[K     |████████████████████████████████| 34.4 MB 28.8 MB/s eta 0:00:01    |███                             | 3.3 MB 34.9 MB/s eta 0:00:01\n",
      "\u001b[?25hRequirement already satisfied: scikit-learn in /opt/conda/lib/python3.8/site-packages (0.24.2)\n",
      "Requirement already satisfied: scipy in /opt/conda/lib/python3.8/site-packages (from lightgbm) (1.6.3)\n",
      "Requirement already satisfied: pytz>=2017.3 in /opt/conda/lib/python3.8/site-packages (from pandas) (2022.1)\n",
      "Requirement already satisfied: python-dateutil>=2.7.3 in /opt/conda/lib/python3.8/site-packages (from pandas) (2.8.2)\n",
      "Requirement already satisfied: Pillow in /opt/conda/lib/python3.8/site-packages (from rdkit) (9.0.1)\n",
      "Requirement already satisfied: joblib>=0.11 in /opt/conda/lib/python3.8/site-packages (from scikit-learn) (1.1.0)\n",
      "Requirement already satisfied: threadpoolctl>=2.0.0 in /opt/conda/lib/python3.8/site-packages (from scikit-learn) (3.1.0)\n",
      "Requirement already satisfied: six>=1.5 in /opt/conda/lib/python3.8/site-packages (from python-dateutil>=2.7.3->pandas) (1.16.0)\n",
      "Installing collected packages: rdkit, lightgbm\n",
      "Successfully installed lightgbm-4.3.0 rdkit-2023.9.4\n",
      "\u001b[33mWARNING: Running pip as the 'root' user can result in broken permissions and conflicting behaviour with the system package manager. It is recommended to use a virtual environment instead: https://pip.pypa.io/warnings/venv\u001b[0m\n"
     ]
    }
   ],
   "source": [
    "! pip install lightgbm numpy pandas rdkit scikit-learn"
   ]
  },
  {
   "cell_type": "code",
   "execution_count": 2,
   "id": "966f50fa-6f9d-48f8-a86a-14d2eb8ae9bf",
   "metadata": {},
   "outputs": [],
   "source": [
    "import lightgbm as lgb\n",
    "import numpy as np\n",
    "import pandas as pd\n",
    "\n",
    "from rdkit import Chem\n",
    "from rdkit.Chem.rdMolDescriptors import GetMorganFingerprintAsBitVect\n",
    "from sklearn.model_selection import train_test_split\n",
    "from sklearn.metrics import fbeta_score"
   ]
  },
  {
   "cell_type": "code",
   "execution_count": 3,
   "id": "dcc217c0-5d04-43f1-a250-af64e40991e0",
   "metadata": {},
   "outputs": [],
   "source": [
    "DATA_PATH = \"/bohr/AI4S-dwdx/v1/AI4science/\"\n",
    "\n",
    "raw_data = pd.read_csv(f\"{DATA_PATH}/mol_train.csv\")\n",
    "test_data = pd.read_csv(f\"{DATA_PATH}/mol_test.csv\")\n",
    "\n",
    "rd = 2024\n",
    "train_data, valid_data = train_test_split(\n",
    "    raw_data, test_size=0.2, random_state=rd)"
   ]
  },
  {
   "cell_type": "code",
   "execution_count": 4,
   "id": "5ed63650-ac49-450c-ba9a-be999a5effe9",
   "metadata": {},
   "outputs": [
    {
     "name": "stderr",
     "output_type": "stream",
     "text": [
      "/tmp/ipykernel_826/281782258.py:30: SettingWithCopyWarning: \n",
      "A value is trying to be set on a copy of a slice from a DataFrame.\n",
      "Try using .loc[row_indexer,col_indexer] = value instead\n",
      "\n",
      "See the caveats in the documentation: https://pandas.pydata.org/pandas-docs/stable/user_guide/indexing.html#returning-a-view-versus-a-copy\n",
      "  train_data[\"1dqsar_mr\"] = train_data[\"SMILES\"].apply(calculate_1dqsar_repr)\n",
      "/tmp/ipykernel_826/281782258.py:31: SettingWithCopyWarning: \n",
      "A value is trying to be set on a copy of a slice from a DataFrame.\n",
      "Try using .loc[row_indexer,col_indexer] = value instead\n",
      "\n",
      "See the caveats in the documentation: https://pandas.pydata.org/pandas-docs/stable/user_guide/indexing.html#returning-a-view-versus-a-copy\n",
      "  valid_data[\"1dqsar_mr\"] = valid_data[\"SMILES\"].apply(calculate_1dqsar_repr)\n"
     ]
    }
   ],
   "source": [
    "from rdkit.Chem import Descriptors\n",
    "def calculate_1dqsar_repr(smiles):\n",
    "    mol = Chem.MolFromSmiles(smiles)\n",
    "    mol_weight = Descriptors.MolWt(mol)  \n",
    "    log_p = Descriptors.MolLogP(mol)  \n",
    "    num_h_donors = Descriptors.NumHDonors(mol)  \n",
    "    num_h_acceptors = Descriptors.NumHAcceptors(mol)\n",
    "    tpsa = Descriptors.TPSA(mol)\n",
    "    num_rotatable_bonds = Descriptors.NumRotatableBonds(mol)\n",
    "    num_aromatic_rings = Descriptors.NumAromaticRings(mol)\n",
    "    num_aliphatic_rings = Descriptors.NumAliphaticRings(mol)\n",
    "    num_saturated_rings = Descriptors.NumSaturatedRings(mol)\n",
    "    num_heteroatoms = Descriptors.NumHeteroatoms(mol)\n",
    "    num_valence_electrons = Descriptors.NumValenceElectrons(mol)\n",
    "    num_radical_electrons = Descriptors.NumRadicalElectrons(mol) \n",
    "    num_polar_hydrogens = Descriptors.NumHAcceptors(mol)\n",
    " \n",
    "    count_n = 0\n",
    "    for atom in mol.GetAtoms():\n",
    "        atomic_num = atom.GetAtomicNum()\n",
    "        if atomic_num == 7: \n",
    "            count_n += 1\n",
    "\n",
    "\n",
    "    features_repr = [mol_weight, log_p, num_h_donors, num_h_acceptors, tpsa, num_rotatable_bonds,\n",
    "                     num_aromatic_rings, num_aliphatic_rings, num_saturated_rings, num_heteroatoms,\n",
    "                     num_valence_electrons, num_radical_electrons, count_n, num_polar_hydrogens]\n",
    "    return features_repr\n",
    "\n",
    "train_data[\"1dqsar_mr\"] = train_data[\"SMILES\"].apply(calculate_1dqsar_repr)\n",
    "valid_data[\"1dqsar_mr\"] = valid_data[\"SMILES\"].apply(calculate_1dqsar_repr)\n"
   ]
  },
  {
   "cell_type": "code",
   "execution_count": 5,
   "id": "c90bc4ba-313e-47ab-9944-6080603f89b4",
   "metadata": {},
   "outputs": [],
   "source": [
    "from sklearn.preprocessing import StandardScaler\n",
    "from sklearn.linear_model import LogisticRegression\n",
    "from sklearn.ensemble import RandomForestClassifier\n",
    "from sklearn.neighbors import KNeighborsClassifier\n",
    "from xgboost import XGBClassifier\n",
    "import lightgbm as lgb\n",
    "from sklearn.svm import SVC\n",
    "import matplotlib.pyplot as plt\n",
    "\n",
    "\n",
    "train_x = np.array(train_data[\"1dqsar_mr\"].values.tolist())\n",
    "train_y = np.array(train_data[\"TARGET\"].values.tolist())\n",
    "valid_x = np.array(valid_data[\"1dqsar_mr\"].values.tolist())\n",
    "valid_y = np.array(valid_data[\"TARGET\"].values.tolist())\n",
    "\n",
    "scaler = StandardScaler()\n",
    "train_x = scaler.fit_transform(train_x)\n",
    "valid_x = scaler.transform(valid_x)\n",
    "\n",
    "classifiers = [\n",
    "    (\"Logistic Regression\", LogisticRegression(random_state=rd)),\n",
    "    (\"K-Nearest Neighbors\", KNeighborsClassifier()),\n",
    "    (\"Random Forest\", RandomForestClassifier(random_state=rd)),\n",
    "    (\"LightGBM\", lgb.LGBMClassifier(verbose=-1)),\n",
    "    (\"SVM\", SVC(kernel='linear'))\n",
    "]\n",
    "# (\"XGBoost\", XGBClassifier(use_label_encoder=False, eval_metric=\"logloss\", random_state=rd)),\n"
   ]
  },
  {
   "cell_type": "code",
   "execution_count": 6,
   "id": "c9e27a81-3d01-4919-bd1f-f3d96feb5294",
   "metadata": {},
   "outputs": [
    {
     "name": "stdout",
     "output_type": "stream",
     "text": [
      "[1D-QSAR][Logistic Regression]\tValid Score: 0.782442748091603\n",
      "[1D-QSAR][K-Nearest Neighbors]\tValid Score: 0.7058823529411764\n",
      "[1D-QSAR][Random Forest]\tValid Score: 0.7558139534883721\n",
      "[1D-QSAR][LightGBM]\tValid Score: 0.7061068702290076\n",
      "[1D-QSAR][SVM]\tValid Score: 0.7662835249042147\n"
     ]
    }
   ],
   "source": [
    "results = {}\n",
    "threshold = 0.5\n",
    "for name, classifier in classifiers:\n",
    "    classifier.fit(train_x, train_y)\n",
    "    valid_pred = classifier.predict(valid_x)\n",
    "    # pred_y_proba = classifier.predict_proba(valid_x)[:, 1]\n",
    "    valid_result = [1 if x > threshold else 0 for x in valid_pred]\n",
    "    valid_score = fbeta_score(valid_data[\"TARGET\"], valid_result, beta=2)\n",
    "    print(f\"[1D-QSAR][{name}]\\tValid Score: {valid_score}\")"
   ]
  },
  {
   "cell_type": "code",
   "execution_count": 7,
   "id": "0bbe4a95-0ec7-4dce-9a08-1dac4c6cad71",
   "metadata": {},
   "outputs": [
    {
     "name": "stderr",
     "output_type": "stream",
     "text": [
      "/tmp/ipykernel_826/2662707181.py:8: SettingWithCopyWarning: \n",
      "A value is trying to be set on a copy of a slice from a DataFrame.\n",
      "Try using .loc[row_indexer,col_indexer] = value instead\n",
      "\n",
      "See the caveats in the documentation: https://pandas.pydata.org/pandas-docs/stable/user_guide/indexing.html#returning-a-view-versus-a-copy\n",
      "  train_data[\"2dqsar_mr\"] = train_data[\"SMILES\"].apply(calculate_2dqsar_repr)\n",
      "/tmp/ipykernel_826/2662707181.py:9: SettingWithCopyWarning: \n",
      "A value is trying to be set on a copy of a slice from a DataFrame.\n",
      "Try using .loc[row_indexer,col_indexer] = value instead\n",
      "\n",
      "See the caveats in the documentation: https://pandas.pydata.org/pandas-docs/stable/user_guide/indexing.html#returning-a-view-versus-a-copy\n",
      "  valid_data[\"2dqsar_mr\"] = valid_data[\"SMILES\"].apply(calculate_2dqsar_repr)\n"
     ]
    }
   ],
   "source": [
    "from rdkit.Chem import AllChem\n",
    "\n",
    "def calculate_2dqsar_repr(smiles):    \n",
    "    mol = Chem.MolFromSmiles(smiles)\n",
    "    fp = AllChem.GetMorganFingerprintAsBitVect(mol, 4, nBits=1024)\n",
    "    return np.array(fp)\n",
    "\n",
    "train_data[\"2dqsar_mr\"] = train_data[\"SMILES\"].apply(calculate_2dqsar_repr) \n",
    "valid_data[\"2dqsar_mr\"] = valid_data[\"SMILES\"].apply(calculate_2dqsar_repr) "
   ]
  },
  {
   "cell_type": "code",
   "execution_count": 8,
   "id": "b0db44e0-f773-46f2-9c34-6a8e8c7c7645",
   "metadata": {},
   "outputs": [],
   "source": [
    "train_x = np.array(train_data[\"2dqsar_mr\"].values.tolist())\n",
    "# train_y = np.array(train_data[\"TARGET\"].values.tolist())\n",
    "valid_x = np.array(valid_data[\"2dqsar_mr\"].values.tolist())\n",
    "# valid_y = np.array(valid_data[\"TARGET\"].values.tolist())\n"
   ]
  },
  {
   "cell_type": "code",
   "execution_count": 9,
   "id": "d6e1eba3-5c16-401b-b7f1-c93f9d173bd5",
   "metadata": {},
   "outputs": [
    {
     "name": "stdout",
     "output_type": "stream",
     "text": [
      "[2D-QSAR][Logistic Regression]\tValid Score: 0.7226562500000001\n",
      "[2D-QSAR][K-Nearest Neighbors]\tValid Score: 0.6704980842911877\n",
      "[2D-QSAR][Random Forest]\tValid Score: 0.7\n",
      "[2D-QSAR][LightGBM]\tValid Score: 0.7945736434108527\n",
      "[2D-QSAR][SVM]\tValid Score: 0.6976744186046512\n"
     ]
    }
   ],
   "source": [
    "# results_2D = {}\n",
    "threshold = 0.5\n",
    "for name, classifier in classifiers:\n",
    "    classifier.fit(train_x, train_y)\n",
    "    valid_pred = classifier.predict(valid_x)\n",
    "    valid_result = [1 if x > threshold else 0 for x in valid_pred]\n",
    "    valid_score = fbeta_score(valid_data[\"TARGET\"], valid_result, beta=2)\n",
    "    print(f\"[2D-QSAR][{name}]\\tValid Score: {valid_score}\")"
   ]
  },
  {
   "cell_type": "code",
   "execution_count": 10,
   "id": "a45156d7-8f3b-4dab-8c52-c74b98c8d995",
   "metadata": {},
   "outputs": [
    {
     "name": "stderr",
     "output_type": "stream",
     "text": [
      "/tmp/ipykernel_826/635456171.py:30: SettingWithCopyWarning: \n",
      "A value is trying to be set on a copy of a slice from a DataFrame.\n",
      "Try using .loc[row_indexer,col_indexer] = value instead\n",
      "\n",
      "See the caveats in the documentation: https://pandas.pydata.org/pandas-docs/stable/user_guide/indexing.html#returning-a-view-versus-a-copy\n",
      "  train_data[\"3dqsar_mr\"] = train_data[\"SMILES\"].apply(calculate_3dqsar_repr)\n",
      "/tmp/ipykernel_826/635456171.py:31: SettingWithCopyWarning: \n",
      "A value is trying to be set on a copy of a slice from a DataFrame.\n",
      "Try using .loc[row_indexer,col_indexer] = value instead\n",
      "\n",
      "See the caveats in the documentation: https://pandas.pydata.org/pandas-docs/stable/user_guide/indexing.html#returning-a-view-versus-a-copy\n",
      "  valid_data[\"3dqsar_mr\"] = valid_data[\"SMILES\"].apply(calculate_3dqsar_repr)\n"
     ]
    }
   ],
   "source": [
    "from rdkit.Chem import rdPartialCharges\n",
    "\n",
    "def calculate_3dqsar_repr(SMILES, max_atoms=100, three_d=False):\n",
    "    mol = Chem.MolFromSmiles(SMILES) \n",
    "    mol = Chem.AddHs(mol) \n",
    "    if three_d:\n",
    "        AllChem.EmbedMolecule(mol, AllChem.ETKDG()) \n",
    "    else:\n",
    "        AllChem.Compute2DCoords(mol)  \n",
    "    natoms = mol.GetNumAtoms()  \n",
    "    rdPartialCharges.ComputeGasteigerCharges(mol)  \n",
    "    charges = np.array([float(atom.GetProp(\"_GasteigerCharge\")) for atom in mol.GetAtoms()]) \n",
    "    coords = mol.GetConformer().GetPositions() \n",
    "    coulomb_matrix = np.zeros((max_atoms, max_atoms))  \n",
    "    n = min(max_atoms, natoms)\n",
    "    for i in range(n):\n",
    "        for j in range(i, n):\n",
    "            if i == j:\n",
    "                coulomb_matrix[i, j] = 0.5 * charges[i] ** 2\n",
    "            if i != j:\n",
    "                delta = np.linalg.norm(coords[i] - coords[j]) \n",
    "                if delta != 0:\n",
    "                    coulomb_matrix[i, j] = charges[i] * charges[j] / delta  \n",
    "                    coulomb_matrix[j, i] = coulomb_matrix[i, j]\n",
    "    coulomb_matrix = np.where(np.isinf(coulomb_matrix), 0, coulomb_matrix)  \n",
    "    coulomb_matrix = np.where(np.isnan(coulomb_matrix), 0, coulomb_matrix)  \n",
    "    return coulomb_matrix.reshape(max_atoms*max_atoms).tolist()\n",
    "\n",
    "\n",
    "train_data[\"3dqsar_mr\"] = train_data[\"SMILES\"].apply(calculate_3dqsar_repr) \n",
    "valid_data[\"3dqsar_mr\"] = valid_data[\"SMILES\"].apply(calculate_3dqsar_repr) "
   ]
  },
  {
   "cell_type": "code",
   "execution_count": 11,
   "id": "584ec65b-ceda-4777-8ca0-8f1fe9f13ef5",
   "metadata": {},
   "outputs": [
    {
     "name": "stdout",
     "output_type": "stream",
     "text": [
      "[3D-QSAR][Logistic Regression]\tValid Score: 0.0\n",
      "[3D-QSAR][K-Nearest Neighbors]\tValid Score: 0.8069620253164558\n",
      "[3D-QSAR][Random Forest]\tValid Score: 0.5394190871369293\n",
      "[3D-QSAR][LightGBM]\tValid Score: 0.6626506024096385\n",
      "[3D-QSAR][SVM]\tValid Score: 0.0\n"
     ]
    }
   ],
   "source": [
    "train_x = np.array(train_data[\"3dqsar_mr\"].values.tolist())\n",
    "# train_y = np.array(train_data[\"TARGET\"].values.tolist())\n",
    "valid_x = np.array(valid_data[\"3dqsar_mr\"].values.tolist())\n",
    "# valid_y = np.array(valid_data[\"TARGET\"].values.tolist())\n",
    "\n",
    "threshold = 0.5\n",
    "for name, classifier in classifiers:\n",
    "    classifier.fit(train_x, train_y)\n",
    "    valid_pred = classifier.predict(valid_x)\n",
    "    valid_result = [1 if x > threshold else 0 for x in valid_pred]\n",
    "    valid_score = fbeta_score(valid_data[\"TARGET\"], valid_result, beta=2)\n",
    "    print(f\"[3D-QSAR][{name}]\\tValid Score: {valid_score}\")"
   ]
  },
  {
   "cell_type": "code",
   "execution_count": 12,
   "id": "a4c30cf8-cdd0-4ec0-bd89-bc4a00aea34e",
   "metadata": {},
   "outputs": [
    {
     "name": "stderr",
     "output_type": "stream",
     "text": [
      "/opt/conda/lib/python3.8/site-packages/sklearn/linear_model/_logistic.py:763: ConvergenceWarning: lbfgs failed to converge (status=1):\n",
      "STOP: TOTAL NO. of ITERATIONS REACHED LIMIT.\n",
      "\n",
      "Increase the number of iterations (max_iter) or scale the data as shown in:\n",
      "    https://scikit-learn.org/stable/modules/preprocessing.html\n",
      "Please also refer to the documentation for alternative solver options:\n",
      "    https://scikit-learn.org/stable/modules/linear_model.html#logistic-regression\n",
      "  n_iter_i = _check_optimize_result(\n"
     ]
    },
    {
     "name": "stdout",
     "output_type": "stream",
     "text": [
      "[3D-QSAR][Logistic Regression]\tValid Score: 0.7230769230769231\n",
      "[3D-QSAR][K-Nearest Neighbors]\tValid Score: 0.5514705882352942\n",
      "[3D-QSAR][Random Forest]\tValid Score: 0.0\n",
      "[3D-QSAR][LightGBM]\tValid Score: 0.0\n",
      "[3D-QSAR][SVM]\tValid Score: 0.7275541795665635\n"
     ]
    }
   ],
   "source": [
    "from sklearn.decomposition import PCA\n",
    "\n",
    "scaler = StandardScaler()\n",
    "train_x_scaled = scaler.fit_transform(train_x)\n",
    "valid_x_scaled = scaler.fit_transform(valid_x)\n",
    "\n",
    "pca = PCA(n_components=50)\n",
    "train_x_pca = pca.fit_transform(train_x_scaled)\n",
    "valid_x_pca = pca.fit_transform(valid_x_scaled)\n",
    "\n",
    "\n",
    "threshold = 0.5\n",
    "for name, classifier in classifiers:\n",
    "    classifier.fit(train_x_pca, train_y)\n",
    "    valid_pred = classifier.predict(valid_x_pca)\n",
    "    valid_result = [1 if x > threshold else 0 for x in valid_pred]\n",
    "    valid_score = fbeta_score(valid_data[\"TARGET\"], valid_result, beta=2)\n",
    "    print(f\"[3D-QSAR][{name}]\\tValid Score: {valid_score}\")\n"
   ]
  },
  {
   "cell_type": "code",
   "execution_count": 13,
   "id": "74720413-9d1f-44c7-8e9d-c0ce6b08c302",
   "metadata": {},
   "outputs": [
    {
     "name": "stderr",
     "output_type": "stream",
     "text": [
      "/opt/conda/lib/python3.8/site-packages/sklearn/linear_model/_logistic.py:763: ConvergenceWarning: lbfgs failed to converge (status=1):\n",
      "STOP: TOTAL NO. of ITERATIONS REACHED LIMIT.\n",
      "\n",
      "Increase the number of iterations (max_iter) or scale the data as shown in:\n",
      "    https://scikit-learn.org/stable/modules/preprocessing.html\n",
      "Please also refer to the documentation for alternative solver options:\n",
      "    https://scikit-learn.org/stable/modules/linear_model.html#logistic-regression\n",
      "  n_iter_i = _check_optimize_result(\n"
     ]
    },
    {
     "name": "stdout",
     "output_type": "stream",
     "text": [
      "[QSAR-fusion][Logistic Regression]\tValid Score: 0.0\n",
      "[QSAR-fusion][K-Nearest Neighbors]\tValid Score: 0.6727272727272726\n",
      "[QSAR-fusion][Random Forest]\tValid Score: 0.0\n",
      "[QSAR-fusion][LightGBM]\tValid Score: 0.04651162790697674\n",
      "[QSAR-fusion][SVM]\tValid Score: 0.0\n"
     ]
    }
   ],
   "source": [
    "from sklearn.decomposition import PCA\n",
    "\n",
    "scaler = StandardScaler()\n",
    "train_x_scaled = scaler.fit_transform(train_x)\n",
    "valid_x_scaled = scaler.fit_transform(valid_x)\n",
    "\n",
    "pca = PCA(n_components=0.85)\n",
    "pca.fit(train_x_scaled)\n",
    "\n",
    "train_x_pca = pca.transform(train_x_scaled)\n",
    "valid_x_pca = pca.transform(valid_x_scaled)\n",
    "\n",
    "\n",
    "threshold = 0.5\n",
    "for name, classifier in classifiers:\n",
    "    classifier.fit(train_x_pca, train_y)\n",
    "    valid_pred = classifier.predict(valid_x_pca)\n",
    "    valid_result = [1 if x > threshold else 0 for x in valid_pred]\n",
    "    valid_score = fbeta_score(valid_data[\"TARGET\"], valid_result, beta=2)\n",
    "    print(f\"[QSAR-fusion][{name}]\\tValid Score: {valid_score}\")\n"
   ]
  },
  {
   "cell_type": "code",
   "execution_count": 14,
   "id": "a77f364b-5895-4079-a6ae-4ff2f9430c8b",
   "metadata": {},
   "outputs": [],
   "source": [
    "X_1dqsar = np.stack(train_data[\"1dqsar_mr\"].values)\n",
    "X_2dqsar = np.stack(train_data[\"2dqsar_mr\"].values)\n",
    "X_3dqsar = np.stack(train_data[\"3dqsar_mr\"].values)\n",
    "\n",
    "train_X = np.hstack((X_1dqsar,X_2dqsar,X_3dqsar))\n",
    "scaler = StandardScaler()\n",
    "train_X_scaled = scaler.fit_transform(train_X)\n",
    "\n",
    "# len(train_X_scaled[0])\n",
    "\n",
    "\n",
    "X_1dqsar_v = np.stack(valid_data[\"1dqsar_mr\"].values)\n",
    "X_2dqsar_v = np.stack(valid_data[\"2dqsar_mr\"].values)\n",
    "X_3dqsar_v = np.stack(valid_data[\"3dqsar_mr\"].values)\n",
    "valid_X = np.hstack((X_1dqsar_v,X_2dqsar_v,X_3dqsar_v))\n",
    "scaler = StandardScaler()\n",
    "valid_X_scaled = scaler.fit_transform(valid_X)\n",
    "\n",
    "#len(valid_X_scaled[0])\n",
    "\n"
   ]
  },
  {
   "cell_type": "code",
   "execution_count": 15,
   "id": "010e0dca-855a-4ecd-97e7-4ab61aefa990",
   "metadata": {},
   "outputs": [
    {
     "name": "stdout",
     "output_type": "stream",
     "text": [
      "(560, 1876)\n",
      "(140, 1876)\n"
     ]
    }
   ],
   "source": [
    "from sklearn.feature_selection import SelectFromModel\n",
    "\n",
    "selector = SelectFromModel(RandomForestClassifier(n_estimators=100, random_state=rd))\n",
    "selector.fit_transform(train_X_scaled, train_y)\n",
    "\n",
    "train_X_selected = selector.transform(train_X_scaled)\n",
    "valid_X_selected = selector.transform(valid_X_scaled) \n",
    "\n",
    "pca = PCA(n_components=0.5)\n",
    "pca.fit(train_X_selected) \n",
    "train_X_pca = pca.transform(train_X_selected)\n",
    "valid_X_pca = pca.transform(valid_X_selected) \n",
    "\n",
    "print(train_X_selected.shape)\n",
    "print(valid_X_selected.shape)"
   ]
  },
  {
   "cell_type": "code",
   "execution_count": 16,
   "id": "2f387abd-26ac-49d1-8f71-e8c59513dffb",
   "metadata": {},
   "outputs": [
    {
     "name": "stdout",
     "output_type": "stream",
     "text": [
      "[QSAR-fusion][Logistic Regression]\tValid Score: 0.36480686695278963\n",
      "[QSAR-fusion][K-Nearest Neighbors]\tValid Score: 0.6690140845070423\n",
      "[QSAR-fusion][Random Forest]\tValid Score: 0.38626609442060084\n",
      "[QSAR-fusion][LightGBM]\tValid Score: 0.46218487394957986\n",
      "[QSAR-fusion][SVM]\tValid Score: 0.3813559322033898\n"
     ]
    }
   ],
   "source": [
    "threshold = 0.5\n",
    "for name, classifier in classifiers:\n",
    "    classifier.fit(train_X_pca, train_y)\n",
    "    valid_pred = classifier.predict(valid_X_pca)\n",
    "    valid_result = [1 if x > threshold else 0 for x in valid_pred]\n",
    "    valid_score = fbeta_score(valid_data[\"TARGET\"], valid_result, beta=2)\n",
    "    print(f\"[QSAR-fusion][{name}]\\tValid Score: {valid_score}\")"
   ]
  },
  {
   "cell_type": "code",
   "execution_count": 17,
   "id": "0a6b68d2-fdfe-4b48-8887-13d1f4d1e7da",
   "metadata": {},
   "outputs": [],
   "source": [
    "test_data[\"1dqsar_mr\"] = test_data[\"SMILES\"].apply(calculate_1dqsar_repr)\n",
    "test_data[\"2dqsar_mr\"] = test_data[\"SMILES\"].apply(calculate_2dqsar_repr)\n",
    "test_data[\"3dqsar_mr\"] = test_data[\"SMILES\"].apply(calculate_3dqsar_repr)\n",
    "\n",
    "X_1dqsar_test = np.stack(test_data[\"1dqsar_mr\"].values)\n",
    "X_2dqsar_test = np.stack(test_data[\"2dqsar_mr\"].values)\n",
    "X_3dqsar_test = np.stack(test_data[\"3dqsar_mr\"].values)"
   ]
  },
  {
   "cell_type": "code",
   "execution_count": 18,
   "id": "55066af3-c25f-4ca9-a6fd-610eca2f35c9",
   "metadata": {},
   "outputs": [],
   "source": [
    "test_X = np.hstack((X_1dqsar_test,X_2dqsar_test,X_3dqsar_test))\n",
    "scaler = StandardScaler()\n",
    "test_X_scaled = scaler.fit_transform(test_X)"
   ]
  },
  {
   "cell_type": "code",
   "execution_count": 19,
   "id": "2cc69273-ae92-48c7-85dd-771f4ed73786",
   "metadata": {},
   "outputs": [],
   "source": [
    "selector = SelectFromModel(RandomForestClassifier(n_estimators=100, random_state=rd))\n",
    "selector.fit_transform(train_X_scaled, train_y)\n",
    "\n",
    "train_X_selected = selector.transform(train_X_scaled)\n",
    "test_X_selected = selector.transform(test_X_scaled) \n",
    "\n",
    "pca = PCA(n_components=0.5)\n",
    "pca.fit(train_X_selected) \n",
    "train_X_pca = pca.transform(train_X_selected)\n",
    "test_X_pca = pca.transform(test_X_selected) \n"
   ]
  },
  {
   "cell_type": "code",
   "execution_count": 20,
   "id": "5bd48a92-1e12-4242-afd6-c833124ee230",
   "metadata": {},
   "outputs": [],
   "source": [
    "model = KNeighborsClassifier()\n",
    "model.fit(train_X_pca, train_y)\n",
    "pred = model.predict(test_X_pca)\n",
    "threshold = 0.5\n",
    "result = [1 if x > threshold else 0 for x in pred]"
   ]
  },
  {
   "cell_type": "code",
   "execution_count": 21,
   "id": "ecef89c5-a1f7-468b-a9ae-b212e720f172",
   "metadata": {},
   "outputs": [
    {
     "data": {
      "text/plain": [
       "0.4822888283378747"
      ]
     },
     "execution_count": 21,
     "metadata": {},
     "output_type": "execute_result"
    }
   ],
   "source": [
    "sum(result)/len(result)"
   ]
  },
  {
   "cell_type": "code",
   "execution_count": 22,
   "id": "89811d02-8fe4-4665-ac5a-0b68433442de",
   "metadata": {},
   "outputs": [],
   "source": [
    "submission = pd.DataFrame()  \n",
    "submission[\"SMILES\"] = test_data[\"SMILES\"] \n",
    "submission[\"TARGET\"] = result \n",
    "submission.to_csv(\"./submission.csv\", index=False) "
   ]
  }
 ],
 "metadata": {
  "kernelspec": {
   "display_name": "Python 3 (ipykernel)",
   "language": "python",
   "name": "python3"
  },
  "language_info": {
   "codemirror_mode": {
    "name": "ipython",
    "version": 3
   },
   "file_extension": ".py",
   "mimetype": "text/x-python",
   "name": "python",
   "nbconvert_exporter": "python",
   "pygments_lexer": "ipython3",
   "version": "3.8.13"
  }
 },
 "nbformat": 4,
 "nbformat_minor": 5
}
